{
 "cells": [
  {
   "cell_type": "code",
   "execution_count": 1,
   "id": "56030370",
   "metadata": {},
   "outputs": [],
   "source": [
    "%run ../../utils/starter.ipynb\n"
   ]
  },
  {
   "cell_type": "raw",
   "id": "78c57d7c",
   "metadata": {},
   "source": [
    "get_one_then_delete()"
   ]
  },
  {
   "cell_type": "code",
   "execution_count": 2,
   "id": "d5e5aea9",
   "metadata": {},
   "outputs": [],
   "source": [
    "def ops():\n",
    "    del_active()\n",
    "    \n",
    "    bpy.ops.preferences.addon_enable(module=\"add_mesh_BoltFactory\")\n",
    "\n",
    "    bpy.ops.mesh.bolt_add(align='WORLD',\n",
    "                      location=(0, 0, 0), rotation=(0, 0, 0),\n",
    "                      change=False, bf_Model_Type='bf_Model_Bolt',\n",
    "                      bf_Head_Type='bf_Head_Hex', bf_Bit_Type='bf_Bit_None',\n",
    "                      bf_Nut_Type='bf_Nut_Hex', bf_Shank_Length=0,\n",
    "                      bf_Shank_Dia=3, bf_Phillips_Bit_Depth=1.14315,\n",
    "                      bf_Allen_Bit_Depth=1.5,\n",
    "                      bf_Allen_Bit_Flat_Distance=2.5,\n",
    "                      bf_Hex_Head_Height=2, bf_Hex_Head_Flat_Distance=5.5,\n",
    "                      bf_CounterSink_Head_Dia=6.3, bf_Cap_Head_Height=3,\n",
    "                      bf_Cap_Head_Dia=5.5, bf_Dome_Head_Dia=5.6,\n",
    "                      bf_Pan_Head_Dia=5.6, bf_Philips_Bit_Dia=1.82,\n",
    "                      bf_Thread_Length=6, bf_Major_Dia=3, bf_Pitch=0.35,\n",
    "                      bf_Minor_Dia=2.62111, bf_Crest_Percent=10,\n",
    "                      bf_Root_Percent=10, bf_Div_Count=36,\n",
    "                      bf_Hex_Nut_Height=2.4, bf_Hex_Nut_Flat_Distance=5.5)\n",
    "\n",
    "    bpy.ops.mesh.bolt_add(align='WORLD',\n",
    "                      location=(0, 0, 0), rotation=(0, 0, 0),\n",
    "                      change=False, bf_Model_Type='bf_Model_Nut',\n",
    "                      bf_Head_Type='bf_Head_Hex', bf_Bit_Type='bf_Bit_None',\n",
    "                      bf_Nut_Type='bf_Nut_Hex', bf_Shank_Length=0,\n",
    "                      bf_Shank_Dia=3, bf_Phillips_Bit_Depth=1.14315,\n",
    "                      bf_Allen_Bit_Depth=1.5,\n",
    "                      bf_Allen_Bit_Flat_Distance=2.5,\n",
    "                      bf_Hex_Head_Height=2, bf_Hex_Head_Flat_Distance=5.5,\n",
    "                      bf_CounterSink_Head_Dia=6.3, bf_Cap_Head_Height=3,\n",
    "                      bf_Cap_Head_Dia=5.5, bf_Dome_Head_Dia=5.6,\n",
    "                      bf_Pan_Head_Dia=5.6, bf_Philips_Bit_Dia=1.82,\n",
    "                      bf_Thread_Length=6, bf_Major_Dia=3, bf_Pitch=0.35,\n",
    "                      bf_Minor_Dia=2.62111, bf_Crest_Percent=10,\n",
    "                      bf_Root_Percent=10, bf_Div_Count=36,\n",
    "                      bf_Hex_Nut_Height=2.4, bf_Hex_Nut_Flat_Distance=5.5)"
   ]
  },
  {
   "cell_type": "code",
   "execution_count": 3,
   "id": "47d18da8",
   "metadata": {},
   "outputs": [],
   "source": [
    "if not \"__file__\" in locals():\n",
    "    %run ../../utils/helper.ipynb\n",
    "    ops()"
   ]
  }
 ],
 "metadata": {
  "kernelspec": {
   "display_name": "blender",
   "language": "python",
   "name": "blender"
  },
  "language_info": {
   "codemirror_mode": {
    "name": "ipython",
    "version": 3
   },
   "file_extension": ".py",
   "mimetype": "text/x-python",
   "name": "python",
   "nbconvert_exporter": "python",
   "pygments_lexer": "ipython3",
   "version": "3.10.2"
  }
 },
 "nbformat": 4,
 "nbformat_minor": 5
}
