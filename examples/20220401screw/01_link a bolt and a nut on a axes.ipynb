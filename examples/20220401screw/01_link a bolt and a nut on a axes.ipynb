{
 "cells": [
  {
   "cell_type": "code",
   "execution_count": 1,
   "id": "c4a60d95",
   "metadata": {},
   "outputs": [],
   "source": [
    "%run \"00_a bolt and a nut.ipynb\""
   ]
  },
  {
   "cell_type": "code",
   "execution_count": null,
   "id": "1cebcf33-e110-4ff0-93cb-39afeffde45b",
   "metadata": {},
   "outputs": [],
   "source": []
  },
  {
   "cell_type": "code",
   "execution_count": 2,
   "id": "c0f63586",
   "metadata": {},
   "outputs": [],
   "source": [
    "def get_bolt_and_nut(axes):\n",
    "    bn=[]\n",
    "    for i in axes.children:\n",
    "        if i.data is None:continue\n",
    "        if \"Bolt\" in i.data.keys():\n",
    "            bn.append(i)\n",
    "    # assert len(bn)=2\n",
    "    bolt,nut=None,None\n",
    "    for i in bn:\n",
    "        if i.name==\"Nut\":nut=i\n",
    "        if i.name==\"Bolt\":bolt=i\n",
    "    return bolt,nut\n",
    "\n",
    "def compare_data(a,b,k):\n",
    "    return a.data[k]==b.data[k]\n",
    "\n"
   ]
  },
  {
   "cell_type": "raw",
   "id": "59321a04",
   "metadata": {},
   "source": [
    "pitch=0.3499999940395355"
   ]
  },
  {
   "cell_type": "code",
   "execution_count": null,
   "id": "f561a438",
   "metadata": {},
   "outputs": [],
   "source": []
  },
  {
   "cell_type": "code",
   "execution_count": 3,
   "id": "b5275776",
   "metadata": {},
   "outputs": [],
   "source": [
    "def ops2():\n",
    "    ops()\n",
    "    \n",
    "    bpy.ops.object.empty_add(type='PLAIN_AXES', align='WORLD', location=(0, 0, 0))\n",
    "\n",
    "    plain_axes=context.object\n",
    "    \n",
    "    for i in context.collection.all_objects:\n",
    "        if i.data is None:continue\n",
    "        if \"Bolt\" in i.data.keys():\n",
    "            i.parent=plain_axes\n",
    "    return plain_axes\n",
    "    \n"
   ]
  },
  {
   "cell_type": "code",
   "execution_count": 4,
   "id": "4c586056-cf8a-40b0-b622-b63fed62fa3e",
   "metadata": {},
   "outputs": [],
   "source": [
    "if not \"__file__\" in locals():\n",
    "    import asyncio\n",
    "    await asyncio.sleep(0)"
   ]
  },
  {
   "cell_type": "code",
   "execution_count": 5,
   "id": "a5df8c23",
   "metadata": {},
   "outputs": [],
   "source": [
    "if not \"__file__\" in locals():\n",
    "    axes=ops2()\n",
    "    bolt,nut=get_bolt_and_nut(axes)\n",
    "    assert compare_data(*get_bolt_and_nut(axes),\"bf_Pitch\") is True\n",
    "    pitch=bolt.data[\"bf_Pitch\"]"
   ]
  },
  {
   "cell_type": "code",
   "execution_count": null,
   "id": "e87c3813",
   "metadata": {},
   "outputs": [],
   "source": []
  },
  {
   "cell_type": "code",
   "execution_count": null,
   "id": "34e6cfe7",
   "metadata": {},
   "outputs": [],
   "source": []
  }
 ],
 "metadata": {
  "kernelspec": {
   "display_name": "blender",
   "language": "python",
   "name": "blender"
  },
  "language_info": {
   "codemirror_mode": {
    "name": "ipython",
    "version": 3
   },
   "file_extension": ".py",
   "mimetype": "text/x-python",
   "name": "python",
   "nbconvert_exporter": "python",
   "pygments_lexer": "ipython3",
   "version": "3.10.2"
  }
 },
 "nbformat": 4,
 "nbformat_minor": 5
}
