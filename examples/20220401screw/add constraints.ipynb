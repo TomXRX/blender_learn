{
 "cells": [
  {
   "cell_type": "code",
   "execution_count": 1,
   "id": "88fde2b0",
   "metadata": {
    "scrolled": true
   },
   "outputs": [],
   "source": [
    "%run \"01_link a bolt and a nut on a axes.ipynb\""
   ]
  },
  {
   "cell_type": "code",
   "execution_count": null,
   "id": "4d8391ed",
   "metadata": {},
   "outputs": [],
   "source": []
  },
  {
   "cell_type": "code",
   "execution_count": 2,
   "id": "8c493ae1",
   "metadata": {},
   "outputs": [],
   "source": [
    "def ops3():\n",
    "    \n",
    "    axes=ops2()\n",
    "    \n",
    "    return axes\n",
    "    "
   ]
  },
  {
   "cell_type": "code",
   "execution_count": 3,
   "id": "70e01e41-e779-42ac-bf9b-b5c132f7990e",
   "metadata": {},
   "outputs": [],
   "source": [
    "if not \"__file__\" in locals():\n",
    "    import asyncio\n",
    "    await asyncio.sleep(0)"
   ]
  },
  {
   "cell_type": "code",
   "execution_count": 4,
   "id": "2315fde3",
   "metadata": {},
   "outputs": [],
   "source": [
    "if not \"__file__\" in locals():\n",
    "    axes=ops3()\n",
    "    assert compare_data(*get_bolt_and_nut(axes),\"bf_Pitch\") is True"
   ]
  },
  {
   "cell_type": "code",
   "execution_count": 5,
   "id": "a4df11eb",
   "metadata": {},
   "outputs": [
    {
     "data": {
      "text/plain": [
       "bpy.data.objects['Empty']"
      ]
     },
     "execution_count": 5,
     "metadata": {},
     "output_type": "execute_result"
    }
   ],
   "source": [
    "axes"
   ]
  },
  {
   "cell_type": "code",
   "execution_count": 6,
   "id": "cc5a8189",
   "metadata": {},
   "outputs": [],
   "source": [
    "bolt,nut=get_bolt_and_nut(axes)"
   ]
  },
  {
   "cell_type": "code",
   "execution_count": 7,
   "id": "2389c8a5",
   "metadata": {},
   "outputs": [
    {
     "data": {
      "text/plain": [
       "<IDPropertyGroupViewKeys \"RNA_struct_idprops\">"
      ]
     },
     "execution_count": 7,
     "metadata": {},
     "output_type": "execute_result"
    }
   ],
   "source": [
    "bolt.data.keys()"
   ]
  },
  {
   "cell_type": "code",
   "execution_count": 8,
   "id": "a1b96e8c",
   "metadata": {},
   "outputs": [],
   "source": [
    "def screwing(bolt,nut):\n",
    "    def to_screw(bolt,nut):\n",
    "        pitch=bolt.data[\"bf_Pitch\"]\n",
    "\n",
    "        constraint=bolt.constraints.new(type='TRANSFORM')\n",
    "\n",
    "        constraint.map_from = 'LOCATION'\n",
    "\n",
    "        constraint.target_space = 'LOCAL'\n",
    "        constraint.owner_space = 'LOCAL'\n",
    "        constraint.map_to = 'ROTATION'\n",
    "\n",
    "\n",
    "        constraint.to_min_z_rot = 6.28319\n",
    "        constraint.to_max_z_rot = 0\n",
    "        constraint.from_max_z = pitch\n",
    "        constraint.from_min_z = 0\n",
    "\n",
    "        constraint.target = nut\n",
    "\n",
    "        constraint.use_motion_extrapolate = True\n",
    "    to_screw(bolt,nut)\n",
    "    to_screw(nut,bolt)"
   ]
  },
  {
   "cell_type": "code",
   "execution_count": 9,
   "id": "0f9b9b6f",
   "metadata": {},
   "outputs": [],
   "source": [
    "screwing(bolt,nut)"
   ]
  },
  {
   "cell_type": "code",
   "execution_count": null,
   "id": "5f633b1f",
   "metadata": {},
   "outputs": [],
   "source": []
  },
  {
   "cell_type": "code",
   "execution_count": 10,
   "id": "a8c0f0e3",
   "metadata": {},
   "outputs": [],
   "source": [
    "def limiting(nut,bolt):\n",
    "    length=bolt.data[\"bf_Thread_Length\"]\n",
    "    length-=nut.data['bf_Hex_Nut_Height']\n",
    "    def to_limit_location(nut,negative=False):\n",
    "        nonlocal length\n",
    "        \n",
    "        constraint=nut.constraints.new(type=\"LIMIT_LOCATION\")\n",
    "\n",
    "        constraint.owner_space = 'LOCAL'\n",
    "        \n",
    "        constraint.use_min_x = True\n",
    "        constraint.use_max_x = True\n",
    "        constraint.use_min_y = True\n",
    "        constraint.use_max_y = True\n",
    "        \n",
    "        constraint.use_min_z = True\n",
    "        constraint.use_max_z = not negative\n",
    "        \n",
    "        constraint.min_x=0\n",
    "        constraint.max_x=0\n",
    "        constraint.min_y=0\n",
    "        constraint.max_y=0\n",
    "        \n",
    "        if negative:\n",
    "            constraint.min_z=-length\n",
    "            constraint.max_z=0\n",
    "        else:\n",
    "            constraint.min_z=0\n",
    "            constraint.max_z=length\n",
    "        \n",
    "        constraint.use_transform_limit = True\n",
    "\n",
    "        \n",
    "    def to_limit_rotation(nut):\n",
    "        constraint=nut.constraints.new(type=\"LIMIT_ROTATION\")\n",
    "\n",
    "        constraint.owner_space = 'LOCAL'\n",
    "        \n",
    "        constraint.use_limit_x = True\n",
    "        constraint.use_limit_y = True\n",
    "        constraint.use_limit_z = False\n",
    "        \n",
    "        constraint.min_x=0\n",
    "        constraint.min_y=0\n",
    "        constraint.min_z=0\n",
    "        constraint.max_x=0\n",
    "        constraint.max_y=0\n",
    "        constraint.max_z=0\n",
    "        \n",
    "        \n",
    "        constraint.use_transform_limit = True\n",
    "\n",
    "    to_limit_location(nut)\n",
    "    to_limit_location(bolt,True)\n",
    "    \n",
    "    to_limit_rotation(nut)\n",
    "    to_limit_rotation(bolt)\n",
    "    "
   ]
  },
  {
   "cell_type": "code",
   "execution_count": 11,
   "id": "12afd303",
   "metadata": {},
   "outputs": [],
   "source": [
    "limiting(nut,bolt)"
   ]
  },
  {
   "cell_type": "code",
   "execution_count": null,
   "id": "65584161",
   "metadata": {},
   "outputs": [],
   "source": []
  },
  {
   "cell_type": "code",
   "execution_count": null,
   "id": "4a716782",
   "metadata": {},
   "outputs": [],
   "source": []
  },
  {
   "cell_type": "code",
   "execution_count": null,
   "id": "b98e5275",
   "metadata": {},
   "outputs": [],
   "source": []
  },
  {
   "cell_type": "raw",
   "id": "8df86e80",
   "metadata": {},
   "source": []
  }
 ],
 "metadata": {
  "kernelspec": {
   "display_name": "blender",
   "language": "python",
   "name": "blender"
  },
  "language_info": {
   "codemirror_mode": {
    "name": "ipython",
    "version": 3
   },
   "file_extension": ".py",
   "mimetype": "text/x-python",
   "name": "python",
   "nbconvert_exporter": "python",
   "pygments_lexer": "ipython3",
   "version": "3.10.2"
  }
 },
 "nbformat": 4,
 "nbformat_minor": 5
}
