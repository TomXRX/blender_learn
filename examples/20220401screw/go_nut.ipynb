{
 "cells": [
  {
   "cell_type": "code",
   "execution_count": 1,
   "id": "7fa25a66",
   "metadata": {},
   "outputs": [],
   "source": [
    "%run ../utils/starter.ipynb"
   ]
  },
  {
   "cell_type": "code",
   "execution_count": 2,
   "id": "019111e8",
   "metadata": {},
   "outputs": [
    {
     "name": "stdout",
     "output_type": "stream",
     "text": [
      "loaded\n",
      "loaded\n"
     ]
    }
   ],
   "source": [
    "%run ../utils/helper.ipynb"
   ]
  },
  {
   "cell_type": "code",
   "execution_count": null,
   "id": "cddb92fe",
   "metadata": {},
   "outputs": [],
   "source": []
  },
  {
   "cell_type": "code",
   "execution_count": 3,
   "id": "e2fffe45",
   "metadata": {},
   "outputs": [],
   "source": [
    "def compare_data(a,b,k):\n",
    "    return a.data[k]==b.data[k]"
   ]
  },
  {
   "cell_type": "code",
   "execution_count": 4,
   "id": "a97b344d",
   "metadata": {},
   "outputs": [],
   "source": [
    "def add_axes():\n",
    "    bpy.ops.object.empty_add(type='PLAIN_AXES', align='CURSOR')\n",
    "    return context.object\n",
    "\n",
    "def add_bolt_and_nut(screw_length=6,div_count=36):\n",
    "    \n",
    "    bpy.ops.preferences.addon_enable(module=\"add_mesh_BoltFactory\")\n",
    "    \n",
    "    #to prevent error\n",
    "    bpy.ops.object.add(type=\"MESH\")\n",
    "    ob=bpy.context.active_object\n",
    "    \n",
    "    bpy.ops.mesh.bolt_add(align='WORLD',\n",
    "                      location=(0, 0, 0), rotation=(0, 0, 0),\n",
    "                      change=False, bf_Model_Type='bf_Model_Bolt',\n",
    "                      bf_Head_Type='bf_Head_Hex', bf_Bit_Type='bf_Bit_None',\n",
    "                      bf_Nut_Type='bf_Nut_Hex', bf_Shank_Length=0,\n",
    "                      bf_Shank_Dia=3, bf_Phillips_Bit_Depth=1.14315,\n",
    "                      bf_Allen_Bit_Depth=1.5,\n",
    "                      bf_Allen_Bit_Flat_Distance=2.5,\n",
    "                      bf_Hex_Head_Height=2, bf_Hex_Head_Flat_Distance=5.5,\n",
    "                      bf_CounterSink_Head_Dia=6.3, bf_Cap_Head_Height=3,\n",
    "                      bf_Cap_Head_Dia=5.5, bf_Dome_Head_Dia=5.6,\n",
    "                      bf_Pan_Head_Dia=5.6, bf_Philips_Bit_Dia=1.82,\n",
    "                      bf_Thread_Length=screw_length, bf_Major_Dia=3, bf_Pitch=0.35,\n",
    "                      bf_Minor_Dia=2.62111, bf_Crest_Percent=10,\n",
    "                      bf_Root_Percent=10, bf_Div_Count=div_count,\n",
    "                      bf_Hex_Nut_Height=2.4, bf_Hex_Nut_Flat_Distance=5.5)\n",
    "    bolt=context.object\n",
    "    \n",
    "    bpy.ops.mesh.bolt_add(align='WORLD',\n",
    "                      location=(0, 0, 0), rotation=(0, 0, 0),\n",
    "                      change=False, bf_Model_Type='bf_Model_Nut',\n",
    "                      bf_Head_Type='bf_Head_Hex', bf_Bit_Type='bf_Bit_None',\n",
    "                      bf_Nut_Type='bf_Nut_Hex', bf_Shank_Length=0,\n",
    "                      bf_Shank_Dia=3, bf_Phillips_Bit_Depth=1.14315,\n",
    "                      bf_Allen_Bit_Depth=1.5,\n",
    "                      bf_Allen_Bit_Flat_Distance=2.5,\n",
    "                      bf_Hex_Head_Height=2, bf_Hex_Head_Flat_Distance=5.5,\n",
    "                      bf_CounterSink_Head_Dia=6.3, bf_Cap_Head_Height=3,\n",
    "                      bf_Cap_Head_Dia=5.5, bf_Dome_Head_Dia=5.6,\n",
    "                      bf_Pan_Head_Dia=5.6, bf_Philips_Bit_Dia=1.82,\n",
    "                      bf_Major_Dia=3, bf_Pitch=0.35,\n",
    "                      bf_Minor_Dia=2.62111, bf_Crest_Percent=10,\n",
    "                      bf_Root_Percent=10, bf_Div_Count=div_count,\n",
    "                      bf_Hex_Nut_Height=2.4, bf_Hex_Nut_Flat_Distance=5.5)\n",
    "    nut=context.object\n",
    "    \n",
    "    axes=add_axes()\n",
    "    bolt.parent=axes\n",
    "    nut.parent=axes\n",
    "    \n",
    "    assert compare_data(*get_bolt_and_nut(axes),\"bf_Pitch\") is True\n",
    "    \n",
    "    #to prevent error\n",
    "    for collection in list(ob.users_collection):collection.objects.unlink(ob)\n",
    "    if ob.users == 0:bpy.data.objects.remove(ob)\n",
    "    del ob\n",
    "    \n",
    "    return axes\n",
    "    "
   ]
  },
  {
   "cell_type": "code",
   "execution_count": 5,
   "id": "bcffa830",
   "metadata": {},
   "outputs": [],
   "source": [
    "def screwing(bolt,nut):\n",
    "    def to_screw(bolt,nut):\n",
    "        pitch=bolt.data[\"bf_Pitch\"]\n",
    "\n",
    "        constraint=bolt.constraints.new(type='TRANSFORM')\n",
    "\n",
    "        constraint.map_from = 'LOCATION'\n",
    "\n",
    "        constraint.target_space = 'LOCAL'\n",
    "        constraint.owner_space = 'LOCAL'\n",
    "        \n",
    "        if False:\n",
    "            #buggy:from rotation to location\n",
    "            constraint.map_from = 'ROTATION'\n",
    "            constraint.map_to = 'LOCATION'\n",
    "            constraint.from_min_z_rot = 6.28319\n",
    "            constraint.from_max_z_rot = 0\n",
    "            constraint.to_max_z = pitch\n",
    "            constraint.to_min_z = 0\n",
    "        else:\n",
    "            #wrong\n",
    "            constraint.map_to = 'ROTATION'\n",
    "            constraint.map_from = 'LOCATION'\n",
    "            constraint.to_min_z_rot = 6.28319\n",
    "            constraint.to_max_z_rot = 0\n",
    "            constraint.from_max_z = pitch\n",
    "            constraint.from_min_z = 0\n",
    "            \n",
    "\n",
    "        constraint.target = nut\n",
    "\n",
    "        constraint.use_motion_extrapolate = True\n",
    "    to_screw(bolt,nut)\n",
    "    to_screw(nut,bolt)"
   ]
  },
  {
   "cell_type": "code",
   "execution_count": null,
   "id": "390b9f42",
   "metadata": {},
   "outputs": [],
   "source": []
  },
  {
   "cell_type": "code",
   "execution_count": 6,
   "id": "930705c8",
   "metadata": {},
   "outputs": [],
   "source": [
    "def limiting(bolt,nut):\n",
    "    length=bolt.data[\"bf_Thread_Length\"]\n",
    "    length-=nut.data['bf_Hex_Nut_Height']\n",
    "    length-=bolt.data['bf_Hex_Nut_Height']\n",
    "    length+=bolt.data['bf_Pitch']*4.8\n",
    "    def to_limit_location(nut,negative=False):\n",
    "        nonlocal length\n",
    "        \n",
    "        constraint=nut.constraints.new(type=\"LIMIT_LOCATION\")\n",
    "\n",
    "        constraint.owner_space = 'LOCAL'\n",
    "        \n",
    "        constraint.use_min_x = True\n",
    "        constraint.use_max_x = True\n",
    "        constraint.use_min_y = True\n",
    "        constraint.use_max_y = True\n",
    "        \n",
    "        constraint.use_min_z = True\n",
    "        constraint.use_max_z = not negative\n",
    "        \n",
    "        constraint.min_x=0\n",
    "        constraint.max_x=0\n",
    "        constraint.min_y=0\n",
    "        constraint.max_y=0\n",
    "        \n",
    "        if negative:\n",
    "            constraint.min_z=-length\n",
    "            constraint.max_z=0\n",
    "        else:\n",
    "            constraint.min_z=0\n",
    "            constraint.max_z=length\n",
    "        \n",
    "        constraint.use_transform_limit = True\n",
    "\n",
    "        \n",
    "    def to_limit_rotation(nut):\n",
    "        constraint=nut.constraints.new(type=\"LIMIT_ROTATION\")\n",
    "\n",
    "        constraint.owner_space = 'LOCAL'\n",
    "        \n",
    "        constraint.use_limit_x = True\n",
    "        constraint.use_limit_y = True\n",
    "        constraint.use_limit_z = False\n",
    "        \n",
    "        constraint.min_x=0\n",
    "        constraint.min_y=0\n",
    "        constraint.min_z=0\n",
    "        constraint.max_x=0\n",
    "        constraint.max_y=0\n",
    "        constraint.max_z=0\n",
    "        \n",
    "        \n",
    "        constraint.use_transform_limit = True\n",
    "\n",
    "    to_limit_location(nut)\n",
    "    to_limit_location(bolt,True)\n",
    "    \n",
    "    to_limit_rotation(nut)\n",
    "    to_limit_rotation(bolt)\n",
    "    "
   ]
  },
  {
   "cell_type": "code",
   "execution_count": 7,
   "id": "a14d21b1",
   "metadata": {},
   "outputs": [],
   "source": [
    "def get_bolt_and_nut(axes):\n",
    "    bn=[]\n",
    "    for i in axes.children:\n",
    "        if i.data is None:continue\n",
    "        if \"Bolt\" in i.data.keys():\n",
    "            bn.append(i)\n",
    "    # assert len(bn)=2\n",
    "    bolt,nut=None,None\n",
    "    for i in bn:\n",
    "        if i.name==\"Nut\":nut=i\n",
    "        if i.name==\"Bolt\":bolt=i\n",
    "    return bolt,nut\n",
    "\n",
    "def add_screw_constrains(axes):\n",
    "    bolt,nut=get_bolt_and_nut(axes)\n",
    "    screwing(bolt,nut)\n",
    "    limiting(bolt,nut)"
   ]
  },
  {
   "cell_type": "code",
   "execution_count": 8,
   "id": "6502d45f",
   "metadata": {},
   "outputs": [],
   "source": [
    "def new_bolt_and_nut(*args,**kwargs):\n",
    "    axes=add_bolt_and_nut(*args,**kwargs)\n",
    "\n",
    "    add_screw_constrains(axes)\n",
    "    \n",
    "    return axes"
   ]
  },
  {
   "cell_type": "code",
   "execution_count": null,
   "id": "9d60d2b1",
   "metadata": {},
   "outputs": [],
   "source": []
  },
  {
   "cell_type": "code",
   "execution_count": 9,
   "id": "d0dae164",
   "metadata": {},
   "outputs": [],
   "source": [
    "axes=new_bolt_and_nut(screw_length=10,div_count=100)"
   ]
  },
  {
   "cell_type": "code",
   "execution_count": null,
   "id": "74e420ae",
   "metadata": {},
   "outputs": [],
   "source": []
  },
  {
   "cell_type": "code",
   "execution_count": 10,
   "id": "149b612c",
   "metadata": {},
   "outputs": [
    {
     "ename": "AttributeError",
     "evalue": "'NoneType' object has no attribute 'data'",
     "output_type": "error",
     "traceback": [
      "\u001b[0;31m---------------------------------------------------------------------------\u001b[0m",
      "\u001b[0;31mAttributeError\u001b[0m                            Traceback (most recent call last)",
      "Input \u001b[0;32mIn [10]\u001b[0m, in \u001b[0;36m<cell line: 1>\u001b[0;34m()\u001b[0m\n\u001b[0;32m----> 1\u001b[0m axes\u001b[38;5;241m=\u001b[39m\u001b[43mnew_bolt_and_nut\u001b[49m\u001b[43m(\u001b[49m\u001b[43mscrew_length\u001b[49m\u001b[38;5;241;43m=\u001b[39;49m\u001b[38;5;241;43m10\u001b[39;49m\u001b[43m,\u001b[49m\u001b[43mdiv_count\u001b[49m\u001b[38;5;241;43m=\u001b[39;49m\u001b[38;5;241;43m10\u001b[39;49m\u001b[43m)\u001b[49m\n",
      "Input \u001b[0;32mIn [8]\u001b[0m, in \u001b[0;36mnew_bolt_and_nut\u001b[0;34m(*args, **kwargs)\u001b[0m\n\u001b[1;32m      1\u001b[0m \u001b[38;5;28;01mdef\u001b[39;00m \u001b[38;5;21mnew_bolt_and_nut\u001b[39m(\u001b[38;5;241m*\u001b[39margs,\u001b[38;5;241m*\u001b[39m\u001b[38;5;241m*\u001b[39mkwargs):\n\u001b[0;32m----> 2\u001b[0m     axes\u001b[38;5;241m=\u001b[39m\u001b[43madd_bolt_and_nut\u001b[49m\u001b[43m(\u001b[49m\u001b[38;5;241;43m*\u001b[39;49m\u001b[43margs\u001b[49m\u001b[43m,\u001b[49m\u001b[38;5;241;43m*\u001b[39;49m\u001b[38;5;241;43m*\u001b[39;49m\u001b[43mkwargs\u001b[49m\u001b[43m)\u001b[49m\n\u001b[1;32m      4\u001b[0m     add_screw_constrains(axes)\n\u001b[1;32m      6\u001b[0m     \u001b[38;5;28;01mreturn\u001b[39;00m axes\n",
      "Input \u001b[0;32mIn [4]\u001b[0m, in \u001b[0;36madd_bolt_and_nut\u001b[0;34m(screw_length, div_count)\u001b[0m\n\u001b[1;32m     50\u001b[0m bolt\u001b[38;5;241m.\u001b[39mparent\u001b[38;5;241m=\u001b[39maxes\n\u001b[1;32m     51\u001b[0m nut\u001b[38;5;241m.\u001b[39mparent\u001b[38;5;241m=\u001b[39maxes\n\u001b[0;32m---> 53\u001b[0m \u001b[38;5;28;01massert\u001b[39;00m \u001b[43mcompare_data\u001b[49m\u001b[43m(\u001b[49m\u001b[38;5;241;43m*\u001b[39;49m\u001b[43mget_bolt_and_nut\u001b[49m\u001b[43m(\u001b[49m\u001b[43maxes\u001b[49m\u001b[43m)\u001b[49m\u001b[43m,\u001b[49m\u001b[38;5;124;43m\"\u001b[39;49m\u001b[38;5;124;43mbf_Pitch\u001b[39;49m\u001b[38;5;124;43m\"\u001b[39;49m\u001b[43m)\u001b[49m \u001b[38;5;129;01mis\u001b[39;00m \u001b[38;5;28;01mTrue\u001b[39;00m\n\u001b[1;32m     55\u001b[0m \u001b[38;5;66;03m#to prevent error\u001b[39;00m\n\u001b[1;32m     56\u001b[0m \u001b[38;5;28;01mfor\u001b[39;00m collection \u001b[38;5;129;01min\u001b[39;00m \u001b[38;5;28mlist\u001b[39m(ob\u001b[38;5;241m.\u001b[39musers_collection):collection\u001b[38;5;241m.\u001b[39mobjects\u001b[38;5;241m.\u001b[39munlink(ob)\n",
      "Input \u001b[0;32mIn [3]\u001b[0m, in \u001b[0;36mcompare_data\u001b[0;34m(a, b, k)\u001b[0m\n\u001b[1;32m      1\u001b[0m \u001b[38;5;28;01mdef\u001b[39;00m \u001b[38;5;21mcompare_data\u001b[39m(a,b,k):\n\u001b[0;32m----> 2\u001b[0m     \u001b[38;5;28;01mreturn\u001b[39;00m \u001b[43ma\u001b[49m\u001b[38;5;241;43m.\u001b[39;49m\u001b[43mdata\u001b[49m[k]\u001b[38;5;241m==\u001b[39mb\u001b[38;5;241m.\u001b[39mdata[k]\n",
      "\u001b[0;31mAttributeError\u001b[0m: 'NoneType' object has no attribute 'data'"
     ]
    },
    {
     "ename": "AttributeError",
     "evalue": "'NoneType' object has no attribute 'data'",
     "output_type": "error",
     "traceback": [
      "\u001b[0;31m---------------------------------------------------------------------------\u001b[0m",
      "\u001b[0;31mAttributeError\u001b[0m                            Traceback (most recent call last)",
      "Input \u001b[0;32mIn [10]\u001b[0m, in \u001b[0;36m<cell line: 1>\u001b[0;34m()\u001b[0m\n\u001b[0;32m----> 1\u001b[0m axes\u001b[38;5;241m=\u001b[39m\u001b[43mnew_bolt_and_nut\u001b[49m\u001b[43m(\u001b[49m\u001b[43mscrew_length\u001b[49m\u001b[38;5;241;43m=\u001b[39;49m\u001b[38;5;241;43m10\u001b[39;49m\u001b[43m,\u001b[49m\u001b[43mdiv_count\u001b[49m\u001b[38;5;241;43m=\u001b[39;49m\u001b[38;5;241;43m10\u001b[39;49m\u001b[43m)\u001b[49m\n",
      "Input \u001b[0;32mIn [8]\u001b[0m, in \u001b[0;36mnew_bolt_and_nut\u001b[0;34m(*args, **kwargs)\u001b[0m\n\u001b[1;32m      1\u001b[0m \u001b[38;5;28;01mdef\u001b[39;00m \u001b[38;5;21mnew_bolt_and_nut\u001b[39m(\u001b[38;5;241m*\u001b[39margs,\u001b[38;5;241m*\u001b[39m\u001b[38;5;241m*\u001b[39mkwargs):\n\u001b[0;32m----> 2\u001b[0m     axes\u001b[38;5;241m=\u001b[39m\u001b[43madd_bolt_and_nut\u001b[49m\u001b[43m(\u001b[49m\u001b[38;5;241;43m*\u001b[39;49m\u001b[43margs\u001b[49m\u001b[43m,\u001b[49m\u001b[38;5;241;43m*\u001b[39;49m\u001b[38;5;241;43m*\u001b[39;49m\u001b[43mkwargs\u001b[49m\u001b[43m)\u001b[49m\n\u001b[1;32m      4\u001b[0m     add_screw_constrains(axes)\n\u001b[1;32m      6\u001b[0m     \u001b[38;5;28;01mreturn\u001b[39;00m axes\n",
      "Input \u001b[0;32mIn [4]\u001b[0m, in \u001b[0;36madd_bolt_and_nut\u001b[0;34m(screw_length, div_count)\u001b[0m\n\u001b[1;32m     50\u001b[0m bolt\u001b[38;5;241m.\u001b[39mparent\u001b[38;5;241m=\u001b[39maxes\n\u001b[1;32m     51\u001b[0m nut\u001b[38;5;241m.\u001b[39mparent\u001b[38;5;241m=\u001b[39maxes\n\u001b[0;32m---> 53\u001b[0m \u001b[38;5;28;01massert\u001b[39;00m \u001b[43mcompare_data\u001b[49m\u001b[43m(\u001b[49m\u001b[38;5;241;43m*\u001b[39;49m\u001b[43mget_bolt_and_nut\u001b[49m\u001b[43m(\u001b[49m\u001b[43maxes\u001b[49m\u001b[43m)\u001b[49m\u001b[43m,\u001b[49m\u001b[38;5;124;43m\"\u001b[39;49m\u001b[38;5;124;43mbf_Pitch\u001b[39;49m\u001b[38;5;124;43m\"\u001b[39;49m\u001b[43m)\u001b[49m \u001b[38;5;129;01mis\u001b[39;00m \u001b[38;5;28;01mTrue\u001b[39;00m\n\u001b[1;32m     55\u001b[0m \u001b[38;5;66;03m#to prevent error\u001b[39;00m\n\u001b[1;32m     56\u001b[0m \u001b[38;5;28;01mfor\u001b[39;00m collection \u001b[38;5;129;01min\u001b[39;00m \u001b[38;5;28mlist\u001b[39m(ob\u001b[38;5;241m.\u001b[39musers_collection):collection\u001b[38;5;241m.\u001b[39mobjects\u001b[38;5;241m.\u001b[39munlink(ob)\n",
      "Input \u001b[0;32mIn [3]\u001b[0m, in \u001b[0;36mcompare_data\u001b[0;34m(a, b, k)\u001b[0m\n\u001b[1;32m      1\u001b[0m \u001b[38;5;28;01mdef\u001b[39;00m \u001b[38;5;21mcompare_data\u001b[39m(a,b,k):\n\u001b[0;32m----> 2\u001b[0m     \u001b[38;5;28;01mreturn\u001b[39;00m \u001b[43ma\u001b[49m\u001b[38;5;241;43m.\u001b[39;49m\u001b[43mdata\u001b[49m[k]\u001b[38;5;241m==\u001b[39mb\u001b[38;5;241m.\u001b[39mdata[k]\n",
      "\u001b[0;31mAttributeError\u001b[0m: 'NoneType' object has no attribute 'data'"
     ]
    }
   ],
   "source": [
    "axes=new_bolt_and_nut(screw_length=10,div_count=10)"
   ]
  },
  {
   "cell_type": "code",
   "execution_count": null,
   "id": "82d77d66",
   "metadata": {},
   "outputs": [],
   "source": [
    "nut,bolt=get_bolt_and_nut(axes)"
   ]
  },
  {
   "cell_type": "code",
   "execution_count": null,
   "id": "da800670",
   "metadata": {},
   "outputs": [],
   "source": []
  },
  {
   "cell_type": "code",
   "execution_count": null,
   "id": "7a5058a4",
   "metadata": {},
   "outputs": [],
   "source": [
    "nut.data.ust_auto_smoth=True"
   ]
  },
  {
   "cell_type": "code",
   "execution_count": null,
   "id": "20a4df2e",
   "metadata": {},
   "outputs": [],
   "source": []
  },
  {
   "cell_type": "code",
   "execution_count": null,
   "id": "ca9451f4",
   "metadata": {},
   "outputs": [],
   "source": [
    "context.object."
   ]
  },
  {
   "cell_type": "code",
   "execution_count": null,
   "id": "878d7ad0",
   "metadata": {},
   "outputs": [],
   "source": []
  },
  {
   "cell_type": "code",
   "execution_count": null,
   "id": "d883e953",
   "metadata": {},
   "outputs": [],
   "source": []
  },
  {
   "cell_type": "code",
   "execution_count": null,
   "id": "8fd1ec7d",
   "metadata": {},
   "outputs": [],
   "source": []
  },
  {
   "cell_type": "raw",
   "id": "08154533",
   "metadata": {},
   "source": [
    "get_one_then_delete()"
   ]
  }
 ],
 "metadata": {
  "kernelspec": {
   "display_name": "blender",
   "language": "python",
   "name": "blender"
  },
  "language_info": {
   "codemirror_mode": {
    "name": "ipython",
    "version": 3
   },
   "file_extension": ".py",
   "mimetype": "text/x-python",
   "name": "python",
   "nbconvert_exporter": "python",
   "pygments_lexer": "ipython3",
   "version": "3.10.2"
  }
 },
 "nbformat": 4,
 "nbformat_minor": 5
}
