{
 "cells": [
  {
   "cell_type": "code",
   "execution_count": 2,
   "id": "f084f367-b36f-4fa9-87f9-98bd02cda475",
   "metadata": {},
   "outputs": [],
   "source": [
    "%run ../../utils/starter.ipynb"
   ]
  },
  {
   "cell_type": "code",
   "execution_count": 3,
   "id": "c8f70b97-2170-47e8-89d4-98a01c88e895",
   "metadata": {},
   "outputs": [],
   "source": [
    "if not \"__file__\" in locals():\n",
    "    %run ../../utils/helper.ipynb"
   ]
  },
  {
   "cell_type": "code",
   "execution_count": 4,
   "id": "56bfdfe6-1709-42cd-91fe-25a7843b52a7",
   "metadata": {},
   "outputs": [],
   "source": [
    "cube=bpy.context.active_object"
   ]
  },
  {
   "cell_type": "code",
   "execution_count": 20,
   "id": "e42fd98b-831b-4f6f-8cf9-f6aaea31c9db",
   "metadata": {},
   "outputs": [],
   "source": [
    "cube.location.x=1"
   ]
  },
  {
   "cell_type": "code",
   "execution_count": 18,
   "id": "b663094b-f0d2-4cfb-b770-c6a8603fdfd5",
   "metadata": {},
   "outputs": [
    {
     "data": {
      "text/plain": [
       "Vector((0.0, 1.3604938983917236, 2.5285727977752686))"
      ]
     },
     "execution_count": 18,
     "metadata": {},
     "output_type": "execute_result"
    }
   ],
   "source": [
    "getattr(cube,\"location\")"
   ]
  },
  {
   "cell_type": "code",
   "execution_count": 6,
   "id": "d8a5c36d-87a8-4d95-a36b-b3cb94f3e800",
   "metadata": {},
   "outputs": [
    {
     "data": {
      "text/plain": [
       "'bpy.context.object.location[0] = 0.17\\n'"
      ]
     },
     "execution_count": 6,
     "metadata": {},
     "output_type": "execute_result"
    }
   ],
   "source": [
    "get_one_then_delete()"
   ]
  },
  {
   "cell_type": "code",
   "execution_count": 7,
   "id": "52de8e98-46b5-420a-bd63-5e499e10a65c",
   "metadata": {},
   "outputs": [],
   "source": [
    "from ipywidgets import interact, interactive, fixed, interact_manual\n",
    "import ipywidgets as widgets"
   ]
  },
  {
   "cell_type": "code",
   "execution_count": 15,
   "id": "75f2480d-a000-4042-824f-2e10b0d3f399",
   "metadata": {},
   "outputs": [
    {
     "data": {
      "application/vnd.jupyter.widget-view+json": {
       "model_id": "9095debca6294e2893768068cddf38e9",
       "version_major": 2,
       "version_minor": 0
      },
      "text/plain": [
       "interactive(children=(IntSlider(value=0, description='x', max=10, min=-10), Output()), _dom_classes=('widget-i…"
      ]
     },
     "metadata": {},
     "output_type": "display_data"
    }
   ],
   "source": [
    "@interact\n",
    "def go(x=(-10,10)):\n",
    "    cube.location[0]=x\n",
    "    "
   ]
  },
  {
   "cell_type": "code",
   "execution_count": 12,
   "id": "00e57333-8c4e-4f1c-a8f8-bf742a397d0e",
   "metadata": {},
   "outputs": [
    {
     "data": {
      "application/vnd.jupyter.widget-view+json": {
       "model_id": "af90ae038537496da2d0321da72f351c",
       "version_major": 2,
       "version_minor": 0
      },
      "text/plain": [
       "interactive(children=(Dropdown(description='column', options=('claps', 'views', 'fans', 'reads'), value='claps…"
      ]
     },
     "metadata": {},
     "output_type": "display_data"
    }
   ],
   "source": [
    "@interact\n",
    "def show_articles_more_than(column=['claps', 'views', 'fans', 'reads'], \n",
    "                            x=(-10, 10, 0.01)):\n",
    "    import asyncio\n",
    "    async def k():\n",
    "        await asyncio.sleep(0)\n",
    "    cube.location[0]=x\n",
    "    "
   ]
  },
  {
   "cell_type": "code",
   "execution_count": 59,
   "id": "7d1bafa8-e260-4f95-942b-0e6b65ea5759",
   "metadata": {},
   "outputs": [
    {
     "data": {
      "application/vnd.jupyter.widget-view+json": {
       "model_id": "bf91a782554947c69f2310f2ae67fefd",
       "version_major": 2,
       "version_minor": 0
      },
      "text/plain": [
       "interactive(children=(Dropdown(description='transform', options=('location', 'rotation_euler', 'scale', 'dimen…"
      ]
     },
     "metadata": {},
     "output_type": "display_data"
    }
   ],
   "source": [
    "@interact\n",
    "def change(transform=[\"location\",\"rotation_euler\",\"scale\",\"dimensions\"]):\n",
    "    l=getattr(cube,transform)\n",
    "    \n",
    "    x,y,z=l\n",
    "    def f(x=x,y=y,z=z):\n",
    "        p=x,y,z\n",
    "        setattr(cube,transform,p)\n",
    "    \n",
    "    if transform in (\"scale\",\"dimensions\"):\n",
    "        ran=(0,10,0.1)\n",
    "    else:\n",
    "        ran=(-10,10,0.1)\n",
    "        \n",
    "    match transform:\n",
    "        case \"scale\"|\"dimensions\":\n",
    "            ran=(0,10,0.1)\n",
    "        case \"rotation_euler\":\n",
    "            ran=(-3.15,3.15,0.1)\n",
    "        case \"location\":\n",
    "            ran=(-10,10,0.1)\n",
    "        \n",
    "    x,y,z=[ran for _ in range(3)]\n",
    "    # x,y,z=[ran for i in getattr(cube,column)]\n",
    "    return interactive(f,x=x,y=y,z=z)"
   ]
  },
  {
   "cell_type": "code",
   "execution_count": null,
   "id": "25a3ede1-1591-48ad-ae79-df5c066cbd69",
   "metadata": {},
   "outputs": [],
   "source": []
  }
 ],
 "metadata": {
  "kernelspec": {
   "display_name": "blender",
   "language": "python",
   "name": "blender"
  },
  "language_info": {
   "codemirror_mode": {
    "name": "ipython",
    "version": 3
   },
   "file_extension": ".py",
   "mimetype": "text/x-python",
   "name": "python",
   "nbconvert_exporter": "python",
   "pygments_lexer": "ipython3",
   "version": "3.10.2"
  }
 },
 "nbformat": 4,
 "nbformat_minor": 5
}
