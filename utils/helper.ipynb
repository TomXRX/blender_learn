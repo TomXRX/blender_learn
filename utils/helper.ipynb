{
 "cells": [
  {
   "cell_type": "code",
   "execution_count": 1,
   "id": "bc8339a8",
   "metadata": {},
   "outputs": [],
   "source": [
    "if not \"__file__\" in locals():\n",
    "    %run starter.ipynb"
   ]
  },
  {
   "cell_type": "code",
   "execution_count": 2,
   "id": "9cf3f636",
   "metadata": {},
   "outputs": [],
   "source": [
    "def have_context_info_pannel():\n",
    "    win = bpy.context.window_manager.windows[0]\n",
    "    area = win.screen.areas[1]\n",
    "    area_type = area.type\n",
    "    area.type = \"INFO\"\n",
    "    override = bpy.context.copy()\n",
    "    override['window'] = win\n",
    "    override['screen'] = win.screen\n",
    "    override['area'] = area\n",
    "    return override"
   ]
  },
  {
   "cell_type": "code",
   "execution_count": 3,
   "id": "966d02b1",
   "metadata": {},
   "outputs": [],
   "source": [
    "def get_one_then_delete():\n",
    "    with context.temp_override(**have_context_info_pannel()):\n",
    "        bpy.ops.info.select_pick(0)\n",
    "        bpy.ops.info.report_copy()\n",
    "        bpy.ops.info.select_all()\n",
    "        bpy.ops.info.report_delete()\n",
    "    \n",
    "    return bpy.context.window_manager.clipboard"
   ]
  },
  {
   "cell_type": "code",
   "execution_count": 4,
   "id": "a53a3542",
   "metadata": {},
   "outputs": [
    {
     "ename": "RuntimeError",
     "evalue": "Operator bpy.ops.info.select_pick.poll() failed, context is incorrect",
     "output_type": "error",
     "traceback": [
      "\u001b[0;31m---------------------------------------------------------------------------\u001b[0m",
      "\u001b[0;31mRuntimeError\u001b[0m                              Traceback (most recent call last)",
      "Input \u001b[0;32mIn [4]\u001b[0m, in \u001b[0;36m<cell line: 1>\u001b[0;34m()\u001b[0m\n\u001b[1;32m      1\u001b[0m \u001b[38;5;28;01mif\u001b[39;00m \u001b[38;5;129;01mnot\u001b[39;00m \u001b[38;5;124m\"\u001b[39m\u001b[38;5;124m__file__\u001b[39m\u001b[38;5;124m\"\u001b[39m \u001b[38;5;129;01min\u001b[39;00m \u001b[38;5;28mlocals\u001b[39m():\n\u001b[0;32m----> 2\u001b[0m     \u001b[38;5;28mprint\u001b[39m(\u001b[43mget_one_then_delete\u001b[49m\u001b[43m(\u001b[49m\u001b[43m)\u001b[49m)\n",
      "Input \u001b[0;32mIn [3]\u001b[0m, in \u001b[0;36mget_one_then_delete\u001b[0;34m()\u001b[0m\n\u001b[1;32m      1\u001b[0m \u001b[38;5;28;01mdef\u001b[39;00m \u001b[38;5;21mget_one_then_delete\u001b[39m():\n\u001b[1;32m      2\u001b[0m     \u001b[38;5;28;01mwith\u001b[39;00m context\u001b[38;5;241m.\u001b[39mtemp_override(\u001b[38;5;241m*\u001b[39m\u001b[38;5;241m*\u001b[39mhave_context_info_pannel()):\n\u001b[0;32m----> 3\u001b[0m         \u001b[43mbpy\u001b[49m\u001b[38;5;241;43m.\u001b[39;49m\u001b[43mops\u001b[49m\u001b[38;5;241;43m.\u001b[39;49m\u001b[43minfo\u001b[49m\u001b[38;5;241;43m.\u001b[39;49m\u001b[43mselect_pick\u001b[49m\u001b[43m(\u001b[49m\u001b[38;5;241;43m0\u001b[39;49m\u001b[43m)\u001b[49m\n\u001b[1;32m      4\u001b[0m         bpy\u001b[38;5;241m.\u001b[39mops\u001b[38;5;241m.\u001b[39minfo\u001b[38;5;241m.\u001b[39mreport_copy()\n\u001b[1;32m      5\u001b[0m         bpy\u001b[38;5;241m.\u001b[39mops\u001b[38;5;241m.\u001b[39minfo\u001b[38;5;241m.\u001b[39mselect_all()\n",
      "File \u001b[0;32m/blender/3.2/scripts/modules/bpy/ops.py:113\u001b[0m, in \u001b[0;36m_BPyOpsSubModOp.__call__\u001b[0;34m(self, *args, **kw)\u001b[0m\n\u001b[1;32m    111\u001b[0m \u001b[38;5;28;01mif\u001b[39;00m args:\n\u001b[1;32m    112\u001b[0m     C_dict, C_exec, C_undo \u001b[38;5;241m=\u001b[39m _BPyOpsSubModOp\u001b[38;5;241m.\u001b[39m_parse_args(args)\n\u001b[0;32m--> 113\u001b[0m     ret \u001b[38;5;241m=\u001b[39m \u001b[43m_op_call\u001b[49m\u001b[43m(\u001b[49m\u001b[38;5;28;43mself\u001b[39;49m\u001b[38;5;241;43m.\u001b[39;49m\u001b[43midname_py\u001b[49m\u001b[43m(\u001b[49m\u001b[43m)\u001b[49m\u001b[43m,\u001b[49m\u001b[43m \u001b[49m\u001b[43mC_dict\u001b[49m\u001b[43m,\u001b[49m\u001b[43m \u001b[49m\u001b[43mkw\u001b[49m\u001b[43m,\u001b[49m\u001b[43m \u001b[49m\u001b[43mC_exec\u001b[49m\u001b[43m,\u001b[49m\u001b[43m \u001b[49m\u001b[43mC_undo\u001b[49m\u001b[43m)\u001b[49m\n\u001b[1;32m    114\u001b[0m \u001b[38;5;28;01melse\u001b[39;00m:\n\u001b[1;32m    115\u001b[0m     ret \u001b[38;5;241m=\u001b[39m _op_call(\u001b[38;5;28mself\u001b[39m\u001b[38;5;241m.\u001b[39midname_py(), \u001b[38;5;28;01mNone\u001b[39;00m, kw)\n",
      "\u001b[0;31mRuntimeError\u001b[0m: Operator bpy.ops.info.select_pick.poll() failed, context is incorrect"
     ]
    }
   ],
   "source": [
    "if not \"__file__\" in locals():\n",
    "    print(get_one_then_delete())"
   ]
  },
  {
   "cell_type": "code",
   "execution_count": null,
   "id": "2da7cd3d",
   "metadata": {},
   "outputs": [],
   "source": []
  }
 ],
 "metadata": {
  "kernelspec": {
   "display_name": "blender",
   "language": "python",
   "name": "blender"
  },
  "language_info": {
   "codemirror_mode": {
    "name": "ipython",
    "version": 3
   },
   "file_extension": ".py",
   "mimetype": "text/x-python",
   "name": "python",
   "nbconvert_exporter": "python",
   "pygments_lexer": "ipython3",
   "version": "3.10.2"
  }
 },
 "nbformat": 4,
 "nbformat_minor": 5
}
