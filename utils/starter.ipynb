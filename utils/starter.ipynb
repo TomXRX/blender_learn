{
 "cells": [
  {
   "cell_type": "code",
   "execution_count": null,
   "id": "0d7219f1",
   "metadata": {},
   "outputs": [],
   "source": [
    "if not \"context\" in locals():\n",
    "    import bpy\n",
    "    bpy.ops.wm.read_homefile(app_template=\"\")\n",
    "    context=bpy.context"
   ]
  },
  {
   "cell_type": "code",
   "execution_count": 5,
   "id": "4783ea7a",
   "metadata": {},
   "outputs": [],
   "source": [
    "def del_active():\n",
    "    try:\n",
    "        ob=context.active_object\n",
    "        if ob is None:return\n",
    "        for collection in list(ob.users_collection):collection.objects.unlink(ob)\n",
    "        if ob.users == 0:bpy.data.objects.remove(ob)\n",
    "        del ob\n",
    "    except:pass"
   ]
  },
  {
   "cell_type": "code",
   "execution_count": null,
   "id": "77e08b9b",
   "metadata": {
    "pycharm": {
     "name": "#%%\n"
    }
   },
   "outputs": [],
   "source": [
    "Scene=bpy.data.scenes['Scene']\n",
    "Scene.unit_settings.scale_length=0.001"
   ]
  },
  {
   "cell_type": "code",
   "execution_count": null,
   "id": "1d21c763",
   "metadata": {
    "pycharm": {
     "name": "#%%\n"
    }
   },
   "outputs": [],
   "source": [
    "def set_transform(ob):\n",
    "    mb = ob.matrix_basis\n",
    "    if hasattr(ob.data, \"transform\"):\n",
    "        ob.data.transform(mb)\n",
    "    for c in ob.children:\n",
    "        c.matrix_local = mb @ c.matrix_local\n",
    "\n",
    "    ob.matrix_basis.identity()"
   ]
  },
  {
   "cell_type": "code",
   "execution_count": null,
   "id": "0e049086-13b6-4d99-8af7-06dfaf011103",
   "metadata": {},
   "outputs": [],
   "source": [
    "import nest_asyncio\n",
    "nest_asyncio.apply()\n",
    "#keep it splited"
   ]
  },
  {
   "cell_type": "code",
   "execution_count": null,
   "id": "8107d310-3ce1-44bd-b0d1-be90f402eceb",
   "metadata": {},
   "outputs": [],
   "source": [
    "if not \"__file__\" in locals():\n",
    "    import asyncio\n",
    "    await asyncio.sleep(0)"
   ]
  }
 ],
 "metadata": {
  "kernelspec": {
   "display_name": "blender",
   "language": "python",
   "name": "blender"
  },
  "language_info": {
   "codemirror_mode": {
    "name": "ipython",
    "version": 3
   },
   "file_extension": ".py",
   "mimetype": "text/x-python",
   "name": "python",
   "nbconvert_exporter": "python",
   "pygments_lexer": "ipython3",
   "version": "3.10.2"
  }
 },
 "nbformat": 4,
 "nbformat_minor": 5
}
