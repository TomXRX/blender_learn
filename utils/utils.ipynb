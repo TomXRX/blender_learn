{
 "cells": [
  {
   "cell_type": "raw",
   "id": "259d35e9-444a-4645-9f5d-6ffcc6e0c6b3",
   "metadata": {},
   "source": [
    "def add_plain_axes():\n",
    "    out=bpy.ops.object.empty_add(type='PLAIN_AXES', align='WORLD', location=(0, 0, 0))\n",
    "    assert out=={'FINISHED'}\n",
    "    plain_axes=context.object\n",
    "    return plain_axes"
   ]
  },
  {
   "cell_type": "raw",
   "id": "8505431c-e434-4d35-9e11-b0c721ca3c4f",
   "metadata": {},
   "source": [
    "def add_axes():\n",
    "    bpy.ops.object.empty_add(type='PLAIN_AXES', align='CURSOR')\n",
    "    return context.object\n",
    "def add_cube():\n",
    "    bpy.ops.mesh.primitive_cube_add(size=2, enter_editmode=False, align='CURSOR', location=(0, 0, 0))\n",
    "    return context.object\n",
    "def add_cyli():\n",
    "    bpy.ops.mesh.primitive_cylinder_add(radius=2,depth=2, enter_editmode=False, align='CURSOR', location=(0, 0, 0))\n",
    "    return context.object\n",
    "def add_mesh_stl(filepath):\n",
    "    bpy.ops.import_mesh.stl(filepath=filepath)\n",
    "    return context.object"
   ]
  },
  {
   "cell_type": "code",
   "execution_count": null,
   "id": "cf53b9c0-1a50-439c-a05f-21bb41811882",
   "metadata": {},
   "outputs": [],
   "source": [
    "def hexagon():\n",
    "    from bpy import data as D, context as C\n",
    "    import bmesh\n",
    "\n",
    "    mesh_data = D.meshes.new(\"Hex.Grid\")\n",
    "\n",
    "    bm = bmesh.new()\n",
    "    bmesh.ops.create_circle(\n",
    "        bm,\n",
    "        segments=6,\n",
    "        radius=1,\n",
    "        cap_ends=True)\n",
    "    bm.to_mesh(mesh_data)\n",
    "    bm.clear()\n",
    "    bm.free()\n",
    "\n",
    "    mesh_obj = D.objects.new(mesh_data.name, mesh_data)\n",
    "    C.scene.collection.objects.link(mesh_obj)\n",
    "    \n",
    "    mod=mesh_obj.modifiers.new(name=\"solid\",type=\"SOLIDIFY\")\n",
    "    mod.offset=1\n",
    "    mod.thickness=1\n",
    "    \n",
    "    return mesh_obj"
   ]
  },
  {
   "cell_type": "code",
   "execution_count": null,
   "id": "f25dc8d6-ba83-4809-851d-347164ecc81f",
   "metadata": {},
   "outputs": [],
   "source": [
    "#smaller class and more classes\n",
    "#keep it simple\n",
    "class AddHandler:\n",
    "    def __init__(self,size=2,li=None):\n",
    "        if li is None:li=[]\n",
    "\n",
    "        \n",
    "        self.size=size\n",
    "        self.li=li\n",
    "        self.add_kwargs=dict(align='CURSOR', location=(0, 0, 0))\n",
    "        \n",
    "    def add_to_list(self,thing,li=None):\n",
    "        if li is None:\n",
    "            assert self.li is not None\n",
    "            li=self.li\n",
    "        i=self.add(thing)\n",
    "        li.append(i)\n",
    "        return i\n",
    "        \n",
    "    def add(self,thing):\n",
    "        match thing:\n",
    "            case \"axes\":\n",
    "                bpy.ops.object.empty_add(type='PLAIN_AXES', **self.add_kwargs)\n",
    "            case \"cube\":\n",
    "                bpy.ops.mesh.primitive_cube_add(size=self.size, **self.add_kwargs)\n",
    "            case \"arma\"|\"armature\":\n",
    "                bpy.ops.object.armature_add()\n",
    "            case \"hex\"|\"hexagon\"|\"hexa\":\n",
    "                return hexagon_pillar()\n",
    "            case \"cyli\"|\"cylinder\":\n",
    "                bpy.ops.mesh.primitive_cylinder_add(radius=self.size,depth=self.size)\n",
    "            case _:\n",
    "                raise NotImplementedError\n",
    "        return context.object"
   ]
  },
  {
   "cell_type": "code",
   "execution_count": 1,
   "id": "781ced54-e2ea-46f3-9c04-3561ac44f53a",
   "metadata": {},
   "outputs": [],
   "source": [
    "def give_axes_cylinder():\n",
    "    \"\"\"add an cylinder to empty axes\"\"\"\n",
    "\n",
    "def insert_axes_links(child):\n",
    "    a=AddHandler()\n",
    "    axes=a.add(\"axes\")\n",
    "    # axes.parent=parent\n",
    "    \n",
    "    \n",
    "    child.parent=axes\n",
    "    del a\n",
    "    return axes"
   ]
  },
  {
   "cell_type": "code",
   "execution_count": null,
   "id": "a93aa701-3ede-4c70-b76b-94402f78d6b4",
   "metadata": {},
   "outputs": [],
   "source": [
    "def property_handler(thing,location=None,scale=None,rotation=None,\n",
    "                    change=None):\n",
    "    if location is not None:\n",
    "        if change: location=[i*ii for i,ii in zip(location,change)]\n",
    "        thing.location=location\n",
    "    if rotation is not None:\n",
    "        import math\n",
    "        if change: rotation=[i*ii for i,ii in zip(rotation,change)]\n",
    "        thing.rotation_euler =tuple(math.radians(i) for i in rotation)\n",
    "    if scale is not None:thing.scale=scale\n"
   ]
  },
  {
   "cell_type": "code",
   "execution_count": null,
   "id": "380027a7-f09e-4fdb-a485-ff6e22923f23",
   "metadata": {},
   "outputs": [],
   "source": [
    "def view_selected():\n",
    "    for area in bpy.context.screen.areas:\n",
    "        if area.type == 'VIEW_3D':\n",
    "            ctx = bpy.context.copy()\n",
    "            ctx['area'] = area\n",
    "            ctx['region'] = area.regions[-1]\n",
    "            with context.temp_override(**ctx):\n",
    "                bpy.ops.view3d.view_selected()   "
   ]
  },
  {
   "cell_type": "code",
   "execution_count": 8,
   "id": "75224fcc-814e-4fd6-b558-81554291a5ef",
   "metadata": {},
   "outputs": [],
   "source": [
    "def copy_ob(ob, parent,  collection=bpy.context.collection):\n",
    "    # copy ob\n",
    "    copy = ob.copy()\n",
    "    copy.parent = parent\n",
    "    copy.matrix_parent_inverse = ob.matrix_parent_inverse.copy()\n",
    "    # copy particle settings\n",
    "    for ps in copy.particle_systems:\n",
    "        ps.settings = ps.settings.copy()\n",
    "    collection.objects.link(copy)\n",
    "    return copy\n",
    "    \n",
    "def tree_copy(ob, parent, levels=3):\n",
    "    def recurse(ob, parent, depth):\n",
    "        if depth > levels: \n",
    "            return\n",
    "        copy = copy_ob(ob, parent)\n",
    "        \n",
    "        for child in ob.children:\n",
    "            recurse(child, copy, depth + 1)\n",
    "        return copy\n",
    "    return recurse(ob, ob.parent, 0)"
   ]
  },
  {
   "cell_type": "code",
   "execution_count": null,
   "id": "41939e5c-46ff-4029-b911-9c9515194277",
   "metadata": {},
   "outputs": [],
   "source": []
  },
  {
   "cell_type": "code",
   "execution_count": null,
   "id": "b8cd0261-f77b-43d8-a93a-787622819b94",
   "metadata": {},
   "outputs": [],
   "source": [
    "from ipywidgets import interact, interactive, fixed, interact_manual\n",
    "import ipywidgets as widgets"
   ]
  },
  {
   "cell_type": "code",
   "execution_count": null,
   "id": "7ad370dd-d5f1-416f-9d96-ae84e29e22ec",
   "metadata": {},
   "outputs": [],
   "source": [
    "import math,mathutils"
   ]
  },
  {
   "cell_type": "code",
   "execution_count": null,
   "id": "00222a1d-81a8-4c09-85b0-2fa206e095da",
   "metadata": {},
   "outputs": [],
   "source": []
  },
  {
   "cell_type": "code",
   "execution_count": 29,
   "id": "167ff6ff-69d9-4445-8337-13697993ff73",
   "metadata": {},
   "outputs": [],
   "source": []
  },
  {
   "cell_type": "code",
   "execution_count": null,
   "id": "0fc5634a-f12a-47e6-91d2-b9469971e79a",
   "metadata": {},
   "outputs": [],
   "source": [
    "def remove_all_mods(obj):\n",
    "    for i in obj.modifiers:\n",
    "        bpy.ops.object.modifier_remove(modifier=i.name)"
   ]
  },
  {
   "cell_type": "code",
   "execution_count": null,
   "id": "f9802b14-825a-4ed1-9794-2726722a1758",
   "metadata": {},
   "outputs": [],
   "source": []
  },
  {
   "cell_type": "code",
   "execution_count": 23,
   "id": "464e39fe-d326-4872-998b-056447de4a18",
   "metadata": {},
   "outputs": [],
   "source": [
    "def new_material(m=\"m\"):\n",
    "    mat = bpy.data.materials.get(m)\n",
    "    if mat is None:\n",
    "        mat = bpy.data.materials.new(name=m)\n",
    "    mat.use_nodes = True\n",
    "    return mat\n",
    "def give_material(x,m=\"g\"):\n",
    "    m=new_material(m)\n",
    "    x.active_material=m\n",
    "    return m"
   ]
  },
  {
   "cell_type": "code",
   "execution_count": null,
   "id": "0fbc3ac1-5910-4b61-a10e-7f74f1c30cb1",
   "metadata": {},
   "outputs": [],
   "source": [
    "def show(img):\n",
    "    from matplotlib import pyplot as plt\n",
    "    plt.imshow(img)\n",
    "    plt.title('my picture')\n",
    "    plt.show()\n",
    "    "
   ]
  },
  {
   "cell_type": "code",
   "execution_count": 27,
   "id": "3971be6c-98b7-4001-a42b-cc770396c361",
   "metadata": {},
   "outputs": [],
   "source": [
    "bpy.context.preferences.view.show_tooltips=True\n",
    "bpy.context.preferences.view.show_tooltips_python=True\n",
    "bpy.context.preferences.view.show_developer_ui=True"
   ]
  }
 ],
 "metadata": {
  "kernelspec": {
   "display_name": "Python 3 (ipykernel)",
   "language": "python",
   "name": "python3"
  },
  "language_info": {
   "codemirror_mode": {
    "name": "ipython",
    "version": 3
   },
   "file_extension": ".py",
   "mimetype": "text/x-python",
   "name": "python",
   "nbconvert_exporter": "python",
   "pygments_lexer": "ipython3",
   "version": "3.10.5"
  }
 },
 "nbformat": 4,
 "nbformat_minor": 5
}
